{
  "nbformat": 4,
  "nbformat_minor": 0,
  "metadata": {
    "kernelspec": {
      "display_name": "Python 3",
      "language": "python",
      "name": "python3"
    },
    "language_info": {
      "codemirror_mode": {
        "name": "ipython",
        "version": 3
      },
      "file_extension": ".py",
      "mimetype": "text/x-python",
      "name": "python",
      "nbconvert_exporter": "python",
      "pygments_lexer": "ipython3",
      "version": "3.7.3"
    },
    "colab": {
      "name": "DSPT5_123a_bayes2_starter.ipynb",
      "provenance": [],
      "include_colab_link": true
    }
  },
  "cells": [
    {
      "cell_type": "markdown",
      "metadata": {
        "id": "view-in-github",
        "colab_type": "text"
      },
      "source": [
        "<a href=\"https://colab.research.google.com/github/jiobu1/DS-Unit-1-Sprint-2-Statistics/blob/master/module3/DSPT5_123a_bayes2_starter.ipynb\" target=\"_parent\"><img src=\"https://colab.research.google.com/assets/colab-badge.svg\" alt=\"Open In Colab\"/></a>"
      ]
    },
    {
      "cell_type": "markdown",
      "metadata": {
        "id": "Cd9qL4BIb3am",
        "colab_type": "text"
      },
      "source": [
        "## Example of a classifier"
      ]
    },
    {
      "cell_type": "code",
      "metadata": {
        "id": "ijU7zw1Rb3ao",
        "colab_type": "code",
        "colab": {}
      },
      "source": [
        "# EDA and data handling\n",
        "import numpy as np\n",
        "import pandas as pd\n",
        "\n",
        "# Modeling\n",
        "from sklearn.model_selection import train_test_split \n",
        "# training is to train model and work out alogorithms/ \n",
        "#testing try algorithms on unseen data and see if it works and has not been overfitted to training data\n",
        "from sklearn.ensemble import RandomForestClassifier\n",
        "from sklearn import metrics"
      ],
      "execution_count": 0,
      "outputs": []
    },
    {
      "cell_type": "code",
      "metadata": {
        "id": "iDGjAz4Rb3ar",
        "colab_type": "code",
        "colab": {
          "base_uri": "https://localhost:8080/",
          "height": 34
        },
        "outputId": "c2553f45-c70d-4545-97db-7035be929c82"
      },
      "source": [
        "# read in the data\n",
        "housing = pd.read_csv('/content/sample_data/california_housing_train.csv')\n",
        "housing.shape"
      ],
      "execution_count": 41,
      "outputs": [
        {
          "output_type": "execute_result",
          "data": {
            "text/plain": [
              "(17000, 9)"
            ]
          },
          "metadata": {
            "tags": []
          },
          "execution_count": 41
        }
      ]
    },
    {
      "cell_type": "code",
      "metadata": {
        "id": "sTV_MN8ab3au",
        "colab_type": "code",
        "colab": {}
      },
      "source": [
        "# reduce the size of the dataset\n",
        "housing = housing.sample(500, random_state=42)"
      ],
      "execution_count": 0,
      "outputs": []
    },
    {
      "cell_type": "code",
      "metadata": {
        "id": "6RX76eazb3aw",
        "colab_type": "code",
        "colab": {
          "base_uri": "https://localhost:8080/",
          "height": 224
        },
        "outputId": "d8c04234-f42e-4a75-b117-f27f3c3ac6d4"
      },
      "source": [
        "# show the data \n",
        "housing.head()"
      ],
      "execution_count": 43,
      "outputs": [
        {
          "output_type": "execute_result",
          "data": {
            "text/html": [
              "<div>\n",
              "<style scoped>\n",
              "    .dataframe tbody tr th:only-of-type {\n",
              "        vertical-align: middle;\n",
              "    }\n",
              "\n",
              "    .dataframe tbody tr th {\n",
              "        vertical-align: top;\n",
              "    }\n",
              "\n",
              "    .dataframe thead th {\n",
              "        text-align: right;\n",
              "    }\n",
              "</style>\n",
              "<table border=\"1\" class=\"dataframe\">\n",
              "  <thead>\n",
              "    <tr style=\"text-align: right;\">\n",
              "      <th></th>\n",
              "      <th>longitude</th>\n",
              "      <th>latitude</th>\n",
              "      <th>housing_median_age</th>\n",
              "      <th>total_rooms</th>\n",
              "      <th>total_bedrooms</th>\n",
              "      <th>population</th>\n",
              "      <th>households</th>\n",
              "      <th>median_income</th>\n",
              "      <th>median_house_value</th>\n",
              "    </tr>\n",
              "  </thead>\n",
              "  <tbody>\n",
              "    <tr>\n",
              "      <th>10941</th>\n",
              "      <td>-120.87</td>\n",
              "      <td>37.77</td>\n",
              "      <td>9.0</td>\n",
              "      <td>4838.0</td>\n",
              "      <td>920.0</td>\n",
              "      <td>2460.0</td>\n",
              "      <td>923.0</td>\n",
              "      <td>3.5959</td>\n",
              "      <td>142700.0</td>\n",
              "    </tr>\n",
              "    <tr>\n",
              "      <th>5250</th>\n",
              "      <td>-118.14</td>\n",
              "      <td>34.11</td>\n",
              "      <td>52.0</td>\n",
              "      <td>2742.0</td>\n",
              "      <td>422.0</td>\n",
              "      <td>1153.0</td>\n",
              "      <td>414.0</td>\n",
              "      <td>8.1124</td>\n",
              "      <td>500001.0</td>\n",
              "    </tr>\n",
              "    <tr>\n",
              "      <th>10292</th>\n",
              "      <td>-120.05</td>\n",
              "      <td>36.98</td>\n",
              "      <td>16.0</td>\n",
              "      <td>3705.0</td>\n",
              "      <td>739.0</td>\n",
              "      <td>2463.0</td>\n",
              "      <td>697.0</td>\n",
              "      <td>2.5288</td>\n",
              "      <td>61800.0</td>\n",
              "    </tr>\n",
              "    <tr>\n",
              "      <th>2266</th>\n",
              "      <td>-117.42</td>\n",
              "      <td>34.02</td>\n",
              "      <td>9.0</td>\n",
              "      <td>5455.0</td>\n",
              "      <td>882.0</td>\n",
              "      <td>3015.0</td>\n",
              "      <td>858.0</td>\n",
              "      <td>4.2321</td>\n",
              "      <td>162800.0</td>\n",
              "    </tr>\n",
              "    <tr>\n",
              "      <th>6398</th>\n",
              "      <td>-118.26</td>\n",
              "      <td>33.97</td>\n",
              "      <td>52.0</td>\n",
              "      <td>1331.0</td>\n",
              "      <td>346.0</td>\n",
              "      <td>1144.0</td>\n",
              "      <td>362.0</td>\n",
              "      <td>1.5326</td>\n",
              "      <td>90600.0</td>\n",
              "    </tr>\n",
              "  </tbody>\n",
              "</table>\n",
              "</div>"
            ],
            "text/plain": [
              "       longitude  latitude  ...  median_income  median_house_value\n",
              "10941    -120.87     37.77  ...         3.5959            142700.0\n",
              "5250     -118.14     34.11  ...         8.1124            500001.0\n",
              "10292    -120.05     36.98  ...         2.5288             61800.0\n",
              "2266     -117.42     34.02  ...         4.2321            162800.0\n",
              "6398     -118.26     33.97  ...         1.5326             90600.0\n",
              "\n",
              "[5 rows x 9 columns]"
            ]
          },
          "metadata": {
            "tags": []
          },
          "execution_count": 43
        }
      ]
    },
    {
      "cell_type": "code",
      "metadata": {
        "id": "UP1Xv7lDb3az",
        "colab_type": "code",
        "colab": {
          "base_uri": "https://localhost:8080/",
          "height": 170
        },
        "outputId": "3c27174c-2c9a-416d-be53-67cecc6396cc"
      },
      "source": [
        "# Describe the target \n",
        "housing['median_house_value'].describe()"
      ],
      "execution_count": 44,
      "outputs": [
        {
          "output_type": "execute_result",
          "data": {
            "text/plain": [
              "count       500.000000\n",
              "mean     217606.070000\n",
              "std      126374.865826\n",
              "min       27500.000000\n",
              "25%      116750.000000\n",
              "50%      185900.000000\n",
              "75%      284175.000000\n",
              "max      500001.000000\n",
              "Name: median_house_value, dtype: float64"
            ]
          },
          "metadata": {
            "tags": []
          },
          "execution_count": 44
        }
      ]
    },
    {
      "cell_type": "code",
      "metadata": {
        "id": "jNBiilpMb3a2",
        "colab_type": "code",
        "colab": {
          "base_uri": "https://localhost:8080/",
          "height": 68
        },
        "outputId": "bc8e8b40-7162-430a-d605-f46b301beedc"
      },
      "source": [
        "# create the target \n",
        "housing['high_price'] =np.where(housing['median_house_value']>=185900, 1, 0)\n",
        "housing['high_price'].value_counts()"
      ],
      "execution_count": 45,
      "outputs": [
        {
          "output_type": "execute_result",
          "data": {
            "text/plain": [
              "1    250\n",
              "0    250\n",
              "Name: high_price, dtype: int64"
            ]
          },
          "metadata": {
            "tags": []
          },
          "execution_count": 45
        }
      ]
    },
    {
      "cell_type": "code",
      "metadata": {
        "id": "nzUtl6XDb3a6",
        "colab_type": "code",
        "colab": {
          "base_uri": "https://localhost:8080/",
          "height": 439
        },
        "outputId": "d73d07c9-17c9-4c8b-d2a8-22eb01292dc4"
      },
      "source": [
        "# establish the predictors and the target\n",
        "X = housing.drop(['high_price', 'median_house_value'], axis=1)\n",
        "X"
      ],
      "execution_count": 46,
      "outputs": [
        {
          "output_type": "execute_result",
          "data": {
            "text/html": [
              "<div>\n",
              "<style scoped>\n",
              "    .dataframe tbody tr th:only-of-type {\n",
              "        vertical-align: middle;\n",
              "    }\n",
              "\n",
              "    .dataframe tbody tr th {\n",
              "        vertical-align: top;\n",
              "    }\n",
              "\n",
              "    .dataframe thead th {\n",
              "        text-align: right;\n",
              "    }\n",
              "</style>\n",
              "<table border=\"1\" class=\"dataframe\">\n",
              "  <thead>\n",
              "    <tr style=\"text-align: right;\">\n",
              "      <th></th>\n",
              "      <th>longitude</th>\n",
              "      <th>latitude</th>\n",
              "      <th>housing_median_age</th>\n",
              "      <th>total_rooms</th>\n",
              "      <th>total_bedrooms</th>\n",
              "      <th>population</th>\n",
              "      <th>households</th>\n",
              "      <th>median_income</th>\n",
              "    </tr>\n",
              "  </thead>\n",
              "  <tbody>\n",
              "    <tr>\n",
              "      <th>10941</th>\n",
              "      <td>-120.87</td>\n",
              "      <td>37.77</td>\n",
              "      <td>9.0</td>\n",
              "      <td>4838.0</td>\n",
              "      <td>920.0</td>\n",
              "      <td>2460.0</td>\n",
              "      <td>923.0</td>\n",
              "      <td>3.5959</td>\n",
              "    </tr>\n",
              "    <tr>\n",
              "      <th>5250</th>\n",
              "      <td>-118.14</td>\n",
              "      <td>34.11</td>\n",
              "      <td>52.0</td>\n",
              "      <td>2742.0</td>\n",
              "      <td>422.0</td>\n",
              "      <td>1153.0</td>\n",
              "      <td>414.0</td>\n",
              "      <td>8.1124</td>\n",
              "    </tr>\n",
              "    <tr>\n",
              "      <th>10292</th>\n",
              "      <td>-120.05</td>\n",
              "      <td>36.98</td>\n",
              "      <td>16.0</td>\n",
              "      <td>3705.0</td>\n",
              "      <td>739.0</td>\n",
              "      <td>2463.0</td>\n",
              "      <td>697.0</td>\n",
              "      <td>2.5288</td>\n",
              "    </tr>\n",
              "    <tr>\n",
              "      <th>2266</th>\n",
              "      <td>-117.42</td>\n",
              "      <td>34.02</td>\n",
              "      <td>9.0</td>\n",
              "      <td>5455.0</td>\n",
              "      <td>882.0</td>\n",
              "      <td>3015.0</td>\n",
              "      <td>858.0</td>\n",
              "      <td>4.2321</td>\n",
              "    </tr>\n",
              "    <tr>\n",
              "      <th>6398</th>\n",
              "      <td>-118.26</td>\n",
              "      <td>33.97</td>\n",
              "      <td>52.0</td>\n",
              "      <td>1331.0</td>\n",
              "      <td>346.0</td>\n",
              "      <td>1144.0</td>\n",
              "      <td>362.0</td>\n",
              "      <td>1.5326</td>\n",
              "    </tr>\n",
              "    <tr>\n",
              "      <th>...</th>\n",
              "      <td>...</td>\n",
              "      <td>...</td>\n",
              "      <td>...</td>\n",
              "      <td>...</td>\n",
              "      <td>...</td>\n",
              "      <td>...</td>\n",
              "      <td>...</td>\n",
              "      <td>...</td>\n",
              "    </tr>\n",
              "    <tr>\n",
              "      <th>10109</th>\n",
              "      <td>-119.81</td>\n",
              "      <td>34.45</td>\n",
              "      <td>24.0</td>\n",
              "      <td>3678.0</td>\n",
              "      <td>567.0</td>\n",
              "      <td>1554.0</td>\n",
              "      <td>570.0</td>\n",
              "      <td>6.5173</td>\n",
              "    </tr>\n",
              "    <tr>\n",
              "      <th>12121</th>\n",
              "      <td>-121.44</td>\n",
              "      <td>38.62</td>\n",
              "      <td>37.0</td>\n",
              "      <td>1607.0</td>\n",
              "      <td>385.0</td>\n",
              "      <td>972.0</td>\n",
              "      <td>354.0</td>\n",
              "      <td>1.9107</td>\n",
              "    </tr>\n",
              "    <tr>\n",
              "      <th>15188</th>\n",
              "      <td>-122.27</td>\n",
              "      <td>37.90</td>\n",
              "      <td>52.0</td>\n",
              "      <td>2079.0</td>\n",
              "      <td>273.0</td>\n",
              "      <td>684.0</td>\n",
              "      <td>275.0</td>\n",
              "      <td>7.9556</td>\n",
              "    </tr>\n",
              "    <tr>\n",
              "      <th>16797</th>\n",
              "      <td>-123.15</td>\n",
              "      <td>39.74</td>\n",
              "      <td>23.0</td>\n",
              "      <td>608.0</td>\n",
              "      <td>143.0</td>\n",
              "      <td>281.0</td>\n",
              "      <td>108.0</td>\n",
              "      <td>2.9306</td>\n",
              "    </tr>\n",
              "    <tr>\n",
              "      <th>10903</th>\n",
              "      <td>-120.84</td>\n",
              "      <td>35.32</td>\n",
              "      <td>15.0</td>\n",
              "      <td>2419.0</td>\n",
              "      <td>538.0</td>\n",
              "      <td>1279.0</td>\n",
              "      <td>522.0</td>\n",
              "      <td>3.4762</td>\n",
              "    </tr>\n",
              "  </tbody>\n",
              "</table>\n",
              "<p>500 rows × 8 columns</p>\n",
              "</div>"
            ],
            "text/plain": [
              "       longitude  latitude  ...  households  median_income\n",
              "10941    -120.87     37.77  ...       923.0         3.5959\n",
              "5250     -118.14     34.11  ...       414.0         8.1124\n",
              "10292    -120.05     36.98  ...       697.0         2.5288\n",
              "2266     -117.42     34.02  ...       858.0         4.2321\n",
              "6398     -118.26     33.97  ...       362.0         1.5326\n",
              "...          ...       ...  ...         ...            ...\n",
              "10109    -119.81     34.45  ...       570.0         6.5173\n",
              "12121    -121.44     38.62  ...       354.0         1.9107\n",
              "15188    -122.27     37.90  ...       275.0         7.9556\n",
              "16797    -123.15     39.74  ...       108.0         2.9306\n",
              "10903    -120.84     35.32  ...       522.0         3.4762\n",
              "\n",
              "[500 rows x 8 columns]"
            ]
          },
          "metadata": {
            "tags": []
          },
          "execution_count": 46
        }
      ]
    },
    {
      "cell_type": "code",
      "metadata": {
        "id": "acQm-V1ai9Iw",
        "colab_type": "code",
        "colab": {}
      },
      "source": [
        "# establish the target\n",
        "y = housing['high_price']"
      ],
      "execution_count": 0,
      "outputs": []
    },
    {
      "cell_type": "code",
      "metadata": {
        "id": "lc76hMo0b3a9",
        "colab_type": "code",
        "colab": {
          "base_uri": "https://localhost:8080/",
          "height": 34
        },
        "outputId": "57ce4dbd-d675-4140-b57f-f368a9b9b966"
      },
      "source": [
        "# train-test split\n",
        "X_train, X_test, y_train, y_test = train_test_split(X, y, test_size=0.3, random_state=42)\n",
        "len(y_test)"
      ],
      "execution_count": 48,
      "outputs": [
        {
          "output_type": "execute_result",
          "data": {
            "text/plain": [
              "150"
            ]
          },
          "metadata": {
            "tags": []
          },
          "execution_count": 48
        }
      ]
    },
    {
      "cell_type": "code",
      "metadata": {
        "id": "TV09lm1zb3a_",
        "colab_type": "code",
        "colab": {}
      },
      "source": [
        "# instantiate the classifier\n",
        "mymodel = RandomForestClassifier()"
      ],
      "execution_count": 0,
      "outputs": []
    },
    {
      "cell_type": "code",
      "metadata": {
        "id": "3wXz30oxb3bD",
        "colab_type": "code",
        "colab": {
          "base_uri": "https://localhost:8080/",
          "height": 153
        },
        "outputId": "41d81d9e-91b7-4c64-b6c9-7d2fe904dd0d"
      },
      "source": [
        "# fit on the training data\n",
        "mymodel.fit(X_train, y_train)"
      ],
      "execution_count": 50,
      "outputs": [
        {
          "output_type": "execute_result",
          "data": {
            "text/plain": [
              "RandomForestClassifier(bootstrap=True, ccp_alpha=0.0, class_weight=None,\n",
              "                       criterion='gini', max_depth=None, max_features='auto',\n",
              "                       max_leaf_nodes=None, max_samples=None,\n",
              "                       min_impurity_decrease=0.0, min_impurity_split=None,\n",
              "                       min_samples_leaf=1, min_samples_split=2,\n",
              "                       min_weight_fraction_leaf=0.0, n_estimators=100,\n",
              "                       n_jobs=None, oob_score=False, random_state=None,\n",
              "                       verbose=0, warm_start=False)"
            ]
          },
          "metadata": {
            "tags": []
          },
          "execution_count": 50
        }
      ]
    },
    {
      "cell_type": "code",
      "metadata": {
        "id": "FaGs-CYLb3bH",
        "colab_type": "code",
        "colab": {}
      },
      "source": [
        "# predict on the testing data\n",
        "y_pred = mymodel.predict(X_test)"
      ],
      "execution_count": 0,
      "outputs": []
    },
    {
      "cell_type": "code",
      "metadata": {
        "id": "yCTdQmSsb3bK",
        "colab_type": "code",
        "colab": {
          "base_uri": "https://localhost:8080/",
          "height": 51
        },
        "outputId": "b9a3b94e-67c7-49d1-f68d-bc8cb5783c78"
      },
      "source": [
        "# check out the first few neighborhoods\n",
        "print(y_test.values[10:20], 'true values')\n",
        "print(y_pred[10:20], 'predicted values')"
      ],
      "execution_count": 52,
      "outputs": [
        {
          "output_type": "stream",
          "text": [
            "[1 1 1 1 0 1 1 0 1 0] true values\n",
            "[1 1 1 1 0 0 1 0 0 0] predicted values\n"
          ],
          "name": "stdout"
        }
      ]
    },
    {
      "cell_type": "code",
      "metadata": {
        "id": "7Z9HA8U9b3bN",
        "colab_type": "code",
        "colab": {
          "base_uri": "https://localhost:8080/",
          "height": 34
        },
        "outputId": "cdce984c-ca20-4cd4-f6ba-eb7c6c813720"
      },
      "source": [
        "# evaluate the model performance\n",
        "metrics.accuracy_score(y_test, y_pred)"
      ],
      "execution_count": 53,
      "outputs": [
        {
          "output_type": "execute_result",
          "data": {
            "text/plain": [
              "0.8333333333333334"
            ]
          },
          "metadata": {
            "tags": []
          },
          "execution_count": 53
        }
      ]
    },
    {
      "cell_type": "markdown",
      "metadata": {
        "id": "In6s9sNlb3bR",
        "colab_type": "text"
      },
      "source": [
        "## Confusion Matrix"
      ]
    },
    {
      "cell_type": "code",
      "metadata": {
        "id": "RLTQ4hsnb3bR",
        "colab_type": "code",
        "colab": {
          "base_uri": "https://localhost:8080/",
          "height": 51
        },
        "outputId": "e412302f-efac-4fdf-eb87-67c0cb584c10"
      },
      "source": [
        "# examine the confusion matrix\n",
        "cm1 = metrics.confusion_matrix(y_test, y_pred)\n",
        "cm1"
      ],
      "execution_count": 54,
      "outputs": [
        {
          "output_type": "execute_result",
          "data": {
            "text/plain": [
              "array([[66, 11],\n",
              "       [14, 59]])"
            ]
          },
          "metadata": {
            "tags": []
          },
          "execution_count": 54
        }
      ]
    },
    {
      "cell_type": "code",
      "metadata": {
        "id": "8TvUZjXLla8e",
        "colab_type": "code",
        "colab": {
          "base_uri": "https://localhost:8080/",
          "height": 111
        },
        "outputId": "0f66b813-caa8-4727-ea0b-074e08d991f5"
      },
      "source": [
        "#convert to dataframe\n",
        "cm = pd.DataFrame(cm1, columns=['pred_0', 'pred_1'])\n",
        "cm"
      ],
      "execution_count": 55,
      "outputs": [
        {
          "output_type": "execute_result",
          "data": {
            "text/html": [
              "<div>\n",
              "<style scoped>\n",
              "    .dataframe tbody tr th:only-of-type {\n",
              "        vertical-align: middle;\n",
              "    }\n",
              "\n",
              "    .dataframe tbody tr th {\n",
              "        vertical-align: top;\n",
              "    }\n",
              "\n",
              "    .dataframe thead th {\n",
              "        text-align: right;\n",
              "    }\n",
              "</style>\n",
              "<table border=\"1\" class=\"dataframe\">\n",
              "  <thead>\n",
              "    <tr style=\"text-align: right;\">\n",
              "      <th></th>\n",
              "      <th>pred_0</th>\n",
              "      <th>pred_1</th>\n",
              "    </tr>\n",
              "  </thead>\n",
              "  <tbody>\n",
              "    <tr>\n",
              "      <th>0</th>\n",
              "      <td>66</td>\n",
              "      <td>11</td>\n",
              "    </tr>\n",
              "    <tr>\n",
              "      <th>1</th>\n",
              "      <td>14</td>\n",
              "      <td>59</td>\n",
              "    </tr>\n",
              "  </tbody>\n",
              "</table>\n",
              "</div>"
            ],
            "text/plain": [
              "   pred_0  pred_1\n",
              "0      66      11\n",
              "1      14      59"
            ]
          },
          "metadata": {
            "tags": []
          },
          "execution_count": 55
        }
      ]
    },
    {
      "cell_type": "markdown",
      "metadata": {
        "id": "LJIeiY5ub3bV",
        "colab_type": "text"
      },
      "source": [
        "* 59 true positives (TP): These are cases in which we predicted yes (pricey house), and it is indeed a pricey house.\n",
        "* 66 true negatives (TN): We predicted no (cheap house), and the house is indeed cheap.\n",
        "* 11 false positives (FP): We predicted yes (pricey house), but the house isn't pricey. (Also known as a \"Type I error.\")\n",
        "* 14 false negatives (FN): We predicted no (cheap house), but the house is actually pricey. (Also known as a \"Type II error.\")"
      ]
    },
    {
      "cell_type": "markdown",
      "metadata": {
        "id": "pGDiu0XHb3bW",
        "colab_type": "text"
      },
      "source": [
        "<div>\n",
        "<img src=\"https://www.dataschool.io/content/images/2015/01/confusion_matrix2.png\" width=\"500\"/>\n",
        "\n",
        "SOURCE: https://www.dataschool.io/simple-guide-to-confusion-matrix-terminology"
      ]
    },
    {
      "cell_type": "code",
      "metadata": {
        "id": "Z5P76Tznb3bX",
        "colab_type": "code",
        "colab": {
          "base_uri": "https://localhost:8080/",
          "height": 34
        },
        "outputId": "31d5c19e-c7f2-44f5-922d-ef8b3ef77888"
      },
      "source": [
        "# get the numbers\n",
        "TN = cm['pred_0'].values[0]\n",
        "FN = cm['pred_0'].values[1]\n",
        "FP = cm['pred_1'].values[0]\n",
        "TP = cm['pred_1'].values[1]\n",
        "ALL = cm.values.sum()\n",
        "\n",
        "print(TN, FN, FP, TP)"
      ],
      "execution_count": 65,
      "outputs": [
        {
          "output_type": "stream",
          "text": [
            "66 14 11 59\n"
          ],
          "name": "stdout"
        }
      ]
    },
    {
      "cell_type": "code",
      "metadata": {
        "id": "uRZT0pJCb3bb",
        "colab_type": "code",
        "outputId": "fb2e91a5-c3de-4039-864a-1882fb6c3237",
        "colab": {
          "base_uri": "https://localhost:8080/",
          "height": 102
        }
      },
      "source": [
        "print('True Negatives:', TN)\n",
        "print('False Negatives:', FN)\n",
        "print('False Positives:', FP)\n",
        "print('True Positives:', TP)\n",
        "print('All:', ALL)"
      ],
      "execution_count": 66,
      "outputs": [
        {
          "output_type": "stream",
          "text": [
            "True Negatives: 66\n",
            "False Negatives: 14\n",
            "False Positives: 11\n",
            "True Positives: 59\n",
            "All: 150\n"
          ],
          "name": "stdout"
        }
      ]
    },
    {
      "cell_type": "markdown",
      "metadata": {
        "id": "_UqzNhXXb3be",
        "colab_type": "text"
      },
      "source": [
        "**Accuracy:**  \n",
        "Overall, how often is it correct?"
      ]
    },
    {
      "cell_type": "code",
      "metadata": {
        "id": "qF-83tc3b3be",
        "colab_type": "code",
        "outputId": "93817bae-ac87-4ce7-cbed-8550c45dbc1f",
        "colab": {
          "base_uri": "https://localhost:8080/",
          "height": 34
        }
      },
      "source": [
        "print(f'Accuracy:{round((TP+TN)/ALL, 2)}')"
      ],
      "execution_count": 68,
      "outputs": [
        {
          "output_type": "stream",
          "text": [
            "Accuracy:0.83\n"
          ],
          "name": "stdout"
        }
      ]
    },
    {
      "cell_type": "markdown",
      "metadata": {
        "id": "L3AVVkwfb3bh",
        "colab_type": "text"
      },
      "source": [
        "**True Positive Rate:**   \n",
        "When it's actually yes, how often does it predict yes?        \n",
        "“Sensitivity” or “Recall”"
      ]
    },
    {
      "cell_type": "code",
      "metadata": {
        "id": "r60iRo9jb3bh",
        "colab_type": "code",
        "outputId": "fa853fc5-cfdb-4123-f275-a26471e4e138",
        "colab": {
          "base_uri": "https://localhost:8080/",
          "height": 34
        }
      },
      "source": [
        "print('True Positive Rate:{:.4f}'.format(TP/(TP + FN)))"
      ],
      "execution_count": 71,
      "outputs": [
        {
          "output_type": "stream",
          "text": [
            "True Positive Rate:0.8082\n"
          ],
          "name": "stdout"
        }
      ]
    },
    {
      "cell_type": "markdown",
      "metadata": {
        "id": "dZfEc6qtb3bj",
        "colab_type": "text"
      },
      "source": [
        "**False Positive Rate:**    \n",
        "When it's actually no, how often does it predict yes?   \n",
        "Also known as \"Fall-out Rate\""
      ]
    },
    {
      "cell_type": "code",
      "metadata": {
        "colab_type": "code",
        "outputId": "b95ed839-2289-40af-8e55-203d12365a24",
        "id": "pvV4eeZCrC9W",
        "colab": {
          "base_uri": "https://localhost:8080/",
          "height": 34
        }
      },
      "source": [
        "print(f'False Positive Rate:{FP/(TN+FP):.4f}')"
      ],
      "execution_count": 76,
      "outputs": [
        {
          "output_type": "stream",
          "text": [
            "False Positive Rate:0.1429\n"
          ],
          "name": "stdout"
        }
      ]
    },
    {
      "cell_type": "markdown",
      "metadata": {
        "id": "Cy1sFJ7Lb3bp",
        "colab_type": "text"
      },
      "source": [
        "**Precision:**     \n",
        "When it predicts yes, how often is it correct?  \n",
        "Also known as \"Positive Predictive Value (PPV)\""
      ]
    },
    {
      "cell_type": "code",
      "metadata": {
        "id": "Q0Gnzq-0b3bq",
        "colab_type": "code",
        "outputId": "c0640bfe-05ec-4d98-d443-ee6f9333302d",
        "colab": {
          "base_uri": "https://localhost:8080/",
          "height": 34
        }
      },
      "source": [
        "print('Precision:{:.4f}'.format(TP/(TP + FP)))"
      ],
      "execution_count": 77,
      "outputs": [
        {
          "output_type": "stream",
          "text": [
            "Precision:0.8429\n"
          ],
          "name": "stdout"
        }
      ]
    },
    {
      "cell_type": "markdown",
      "metadata": {
        "id": "CzFbJKG7b3bt",
        "colab_type": "text"
      },
      "source": [
        "**Specificity:**  \n",
        "When it's actually no, how often does it predict no?    \n",
        "also known as \"True Negative Rate\""
      ]
    },
    {
      "cell_type": "code",
      "metadata": {
        "id": "2MNx6cOnb3bu",
        "colab_type": "code",
        "outputId": "602a5be2-39a0-40b5-bc6b-86d97f9dfd6e",
        "colab": {
          "base_uri": "https://localhost:8080/",
          "height": 34
        }
      },
      "source": [
        "print('Specificity: {:.4f}'.format(TN/(TN+FP)))"
      ],
      "execution_count": 79,
      "outputs": [
        {
          "output_type": "stream",
          "text": [
            "Specificity: 0.8571\n"
          ],
          "name": "stdout"
        }
      ]
    },
    {
      "cell_type": "markdown",
      "metadata": {
        "id": "cfmsFiTPb3bw",
        "colab_type": "text"
      },
      "source": [
        "**Prevalence:**    \n",
        "How often does the yes condition actually occur in our sample?  \n",
        "actual yes/total"
      ]
    },
    {
      "cell_type": "code",
      "metadata": {
        "id": "4oBZts1xb3bx",
        "colab_type": "code",
        "colab": {
          "base_uri": "https://localhost:8080/",
          "height": 34
        },
        "outputId": "158c9e51-35fc-49e8-923d-e69761ca3335"
      },
      "source": [
        "P = TP + FN\n",
        "print('Prevalence:{:.4f}'.format(P/ALL))\n",
        "#All pos = TP + FN (FN-positive)"
      ],
      "execution_count": 81,
      "outputs": [
        {
          "output_type": "stream",
          "text": [
            "Prevalence:0.4867\n"
          ],
          "name": "stdout"
        }
      ]
    },
    {
      "cell_type": "markdown",
      "metadata": {
        "id": "orKwbKEyb3bz",
        "colab_type": "text"
      },
      "source": [
        "## Again"
      ]
    },
    {
      "cell_type": "code",
      "metadata": {
        "id": "Hk0lGgEPb3b0",
        "colab_type": "code",
        "colab": {
          "base_uri": "https://localhost:8080/",
          "height": 170
        },
        "outputId": "85e2148d-3ebc-42c3-c52a-256927666b3c"
      },
      "source": [
        "# House age\n",
        "housing['housing_median_age'].describe()"
      ],
      "execution_count": 91,
      "outputs": [
        {
          "output_type": "execute_result",
          "data": {
            "text/plain": [
              "count    500.000000\n",
              "mean      29.872000\n",
              "std       12.483561\n",
              "min        4.000000\n",
              "25%       19.000000\n",
              "50%       30.000000\n",
              "75%       38.250000\n",
              "max       52.000000\n",
              "Name: housing_median_age, dtype: float64"
            ]
          },
          "metadata": {
            "tags": []
          },
          "execution_count": 91
        }
      ]
    },
    {
      "cell_type": "code",
      "metadata": {
        "id": "mBLc1yBQb3b3",
        "colab_type": "code",
        "colab": {}
      },
      "source": [
        "# Create a target\n",
        "housing['old'] = np.where(housing['housing_median_age']>= 38, 1, 0)"
      ],
      "execution_count": 0,
      "outputs": []
    },
    {
      "cell_type": "code",
      "metadata": {
        "id": "STHRIzOWb3b5",
        "colab_type": "code",
        "colab": {}
      },
      "source": [
        "# establish the predictors and the target\n",
        "X = housing.drop(['old', 'housing_median_age', 'high_price'], axis=1)\n",
        "y = housing['old']"
      ],
      "execution_count": 0,
      "outputs": []
    },
    {
      "cell_type": "code",
      "metadata": {
        "id": "e4g37rnmb3b8",
        "colab_type": "code",
        "colab": {
          "base_uri": "https://localhost:8080/",
          "height": 34
        },
        "outputId": "42590a2a-a521-4e6d-95ed-6e5d92ab5641"
      },
      "source": [
        "# train-test split\n",
        "X_train, X_test, y_train, y_test = train_test_split(X, y, test_size=0.3, random_state=42)\n",
        "len(y_test)"
      ],
      "execution_count": 94,
      "outputs": [
        {
          "output_type": "execute_result",
          "data": {
            "text/plain": [
              "150"
            ]
          },
          "metadata": {
            "tags": []
          },
          "execution_count": 94
        }
      ]
    },
    {
      "cell_type": "code",
      "metadata": {
        "id": "xOMySJcRb3b-",
        "colab_type": "code",
        "colab": {}
      },
      "source": [
        "# instantiate the classifier\n",
        "mymodel = RandomForestClassifier()"
      ],
      "execution_count": 0,
      "outputs": []
    },
    {
      "cell_type": "code",
      "metadata": {
        "id": "EAmyiWs8b3cB",
        "colab_type": "code",
        "colab": {
          "base_uri": "https://localhost:8080/",
          "height": 153
        },
        "outputId": "7589520d-4bb8-4fd8-a191-d607f4faa1e4"
      },
      "source": [
        "# fit on the training data\n",
        "mymodel.fit(X_train, y_train)"
      ],
      "execution_count": 96,
      "outputs": [
        {
          "output_type": "execute_result",
          "data": {
            "text/plain": [
              "RandomForestClassifier(bootstrap=True, ccp_alpha=0.0, class_weight=None,\n",
              "                       criterion='gini', max_depth=None, max_features='auto',\n",
              "                       max_leaf_nodes=None, max_samples=None,\n",
              "                       min_impurity_decrease=0.0, min_impurity_split=None,\n",
              "                       min_samples_leaf=1, min_samples_split=2,\n",
              "                       min_weight_fraction_leaf=0.0, n_estimators=100,\n",
              "                       n_jobs=None, oob_score=False, random_state=None,\n",
              "                       verbose=0, warm_start=False)"
            ]
          },
          "metadata": {
            "tags": []
          },
          "execution_count": 96
        }
      ]
    },
    {
      "cell_type": "code",
      "metadata": {
        "id": "mRIqvqIvb3cD",
        "colab_type": "code",
        "colab": {}
      },
      "source": [
        "# predict on the testing data\n",
        "y_pred = mymodel.predict(X_test)"
      ],
      "execution_count": 0,
      "outputs": []
    },
    {
      "cell_type": "code",
      "metadata": {
        "id": "qn_j-A63b3cI",
        "colab_type": "code",
        "colab": {
          "base_uri": "https://localhost:8080/",
          "height": 51
        },
        "outputId": "af8f5d10-36ee-40b7-e3b3-aec3a3f17e77"
      },
      "source": [
        "# check out the first few houses\n",
        "print(y_test.values[:10], 'ground truth')\n",
        "print(y_pred[:10], 'predictions')"
      ],
      "execution_count": 98,
      "outputs": [
        {
          "output_type": "stream",
          "text": [
            "[0 0 0 0 0 0 0 0 1 0] ground truth\n",
            "[0 0 0 0 0 0 0 0 1 0] predictions\n"
          ],
          "name": "stdout"
        }
      ]
    },
    {
      "cell_type": "code",
      "metadata": {
        "id": "f5VvXLh0b3cK",
        "colab_type": "code",
        "colab": {
          "base_uri": "https://localhost:8080/",
          "height": 34
        },
        "outputId": "6cb41af6-da11-418f-f91b-7059cdab18cb"
      },
      "source": [
        "# evaluate the model performance\n",
        "metrics.accuracy_score(y_test, y_pred)"
      ],
      "execution_count": 99,
      "outputs": [
        {
          "output_type": "execute_result",
          "data": {
            "text/plain": [
              "0.8133333333333334"
            ]
          },
          "metadata": {
            "tags": []
          },
          "execution_count": 99
        }
      ]
    },
    {
      "cell_type": "code",
      "metadata": {
        "id": "oTvxU3z_b3cN",
        "colab_type": "code",
        "colab": {
          "base_uri": "https://localhost:8080/",
          "height": 111
        },
        "outputId": "f9a941d5-b498-4918-aa58-3012c1c853ce"
      },
      "source": [
        "# examine the confusion matrix\n",
        "cm = pd.DataFrame(metrics.confusion_matrix(y_test, y_pred), columns = ['pred_0', 'pred_1'])\n",
        "cm"
      ],
      "execution_count": 101,
      "outputs": [
        {
          "output_type": "execute_result",
          "data": {
            "text/html": [
              "<div>\n",
              "<style scoped>\n",
              "    .dataframe tbody tr th:only-of-type {\n",
              "        vertical-align: middle;\n",
              "    }\n",
              "\n",
              "    .dataframe tbody tr th {\n",
              "        vertical-align: top;\n",
              "    }\n",
              "\n",
              "    .dataframe thead th {\n",
              "        text-align: right;\n",
              "    }\n",
              "</style>\n",
              "<table border=\"1\" class=\"dataframe\">\n",
              "  <thead>\n",
              "    <tr style=\"text-align: right;\">\n",
              "      <th></th>\n",
              "      <th>pred_0</th>\n",
              "      <th>pred_1</th>\n",
              "    </tr>\n",
              "  </thead>\n",
              "  <tbody>\n",
              "    <tr>\n",
              "      <th>0</th>\n",
              "      <td>107</td>\n",
              "      <td>8</td>\n",
              "    </tr>\n",
              "    <tr>\n",
              "      <th>1</th>\n",
              "      <td>20</td>\n",
              "      <td>15</td>\n",
              "    </tr>\n",
              "  </tbody>\n",
              "</table>\n",
              "</div>"
            ],
            "text/plain": [
              "   pred_0  pred_1\n",
              "0     107       8\n",
              "1      20      15"
            ]
          },
          "metadata": {
            "tags": []
          },
          "execution_count": 101
        }
      ]
    },
    {
      "cell_type": "code",
      "metadata": {
        "id": "ksrlHASSb3cQ",
        "colab_type": "code",
        "colab": {
          "base_uri": "https://localhost:8080/",
          "height": 34
        },
        "outputId": "e32396df-4956-44ae-e12c-562415cd2d87"
      },
      "source": [
        "# get the numbers\n",
        "TN = cm['pred_0'].values[0]\n",
        "FN = cm['pred_0'].values[1]\n",
        "FP = cm['pred_1'].values[0]\n",
        "TP = cm['pred_1'].values[1]\n",
        "ALL=cm.values.sum()\n",
        "\n",
        "print(TN, FN, FP, TP)"
      ],
      "execution_count": 104,
      "outputs": [
        {
          "output_type": "stream",
          "text": [
            "107 20 8 15\n"
          ],
          "name": "stdout"
        }
      ]
    },
    {
      "cell_type": "code",
      "metadata": {
        "id": "EZ5IgKeBb3cS",
        "colab_type": "code",
        "colab": {
          "base_uri": "https://localhost:8080/",
          "height": 119
        },
        "outputId": "6f817f8f-a018-41c5-93aa-ed05b0338be4"
      },
      "source": [
        "print('Accuracy: {:.4f}'.format((TP + TN)/ ALL))\n",
        "print('True Positive Rate: {:.4f}'.format(TP/ ( TP + FN)))\n",
        "print('False Positive Rate: {:.4f}'.format( FP / (TN + FP)))\n",
        "print('Precision: {:.4f}'.format( TP / (TP + FP)))\n",
        "print('Specificity: {:.4f}'.format( TN / (TN + FP)))\n",
        "print('Prevalence: {:.4f}'.format( ((TP + FN)/ALL)))"
      ],
      "execution_count": 105,
      "outputs": [
        {
          "output_type": "stream",
          "text": [
            "Accuracy: 0.8133\n",
            "True Positive Rate: 0.4286\n",
            "False Positive Rate: 0.0696\n",
            "Precision: 0.6522\n",
            "Specificity: 0.9304\n",
            "Prevalence: 0.2333\n"
          ],
          "name": "stdout"
        }
      ]
    },
    {
      "cell_type": "markdown",
      "metadata": {
        "id": "64euhRKvb3cX",
        "colab_type": "text"
      },
      "source": [
        "## Terminology\n",
        "\n",
        "| Bayes term | Bayes formula | Confusion Matrix term | Confusion Matrix formula| Alternative CM term | \n",
        "|:-|:-|:-|:-|:-|\n",
        "| prior | P(A) | prevalence | (TP + FN) / (TP+TN+FP+FN) | ? |\n",
        "| posterior | P(A given B) | Positive Predictive Value (PPV) | TP / (TP + FP) | precision |\n",
        "| conditional | P(B given A) | True Positive Rate (TPR)  |TP / (TP + FN) | sensitivity, recall |\n",
        "| marginal | P(B) | queue rate | TP + FP | ? |  \n",
        "| prior complement | P(not A) or 100-P(A) | prevalence complement | 1-prevalence | ? |\n",
        "| ? | P(not B given not A) | True Negative Rate (TNR) | TN / (FP + TN) | specificity |\n",
        "| ? | P(B given not A) | False Positive Rate (FPR) | FP / (FP+TN) | fall-out rate, false alarm rate |\n",
        "| ? | P(not B given A) | False Negative Rate (FNR) | FN / (TP + FN) | miss rate |\n",
        "|?|?|accuracy|(TP + TN) / (TP+TN+FP+FN)|?|\n",
        "|?|?|error rate|(FP + FN) / (TP+TN+FP+FN)|misclassification rate|\n",
        "\n",
        "\n",
        "**Abbreviations**  \n",
        "A: Hypothesized Data       \n",
        "B: Observed Data         \n",
        "TP: True Positive  \n",
        "TN: True Negative  \n",
        "FP: False Positive  \n",
        "FN: False Negative  \n",
        " \n",
        "^ Note: Sometimes in Bayesian statistics the following terms are used instead:\n",
        " \n",
        "* prior = hypothesis\n",
        "* posterior = updated hypothesis\n",
        "* conditional = likelihood\n",
        "* marginal = model evidence"
      ]
    },
    {
      "cell_type": "markdown",
      "metadata": {
        "id": "g51KU4mYb3cX",
        "colab_type": "text"
      },
      "source": [
        "## Problem 1. Drunk Drivers"
      ]
    },
    {
      "cell_type": "markdown",
      "metadata": {
        "id": "rjgdIEU6b3cY",
        "colab_type": "text"
      },
      "source": [
        "imagine that individuals are taking a breathalyzer test with \n",
        "* an 8% false positive rate, \n",
        "* a 100% true positive rate, \n",
        "* our prior belief about drunk driving in the population is 1/1000. \n",
        "* What is the probability that a person is drunk after one positive breathalyzer test?"
      ]
    },
    {
      "cell_type": "code",
      "metadata": {
        "id": "yhyBiypdb3cY",
        "colab_type": "code",
        "colab": {}
      },
      "source": [
        "# write a function\n",
        "def prob_drunk_given_positive(prob_drunk_prior, false_positive_rate, true_positive_rate):\n",
        "  prob_non_drunk = 1-prob_drunk_prior\n",
        "  numerator = true_positive_rate * prob_drunk_prior\n",
        "  demoninator = ((true_positive_rate * prob_drunk_prior) + (false_positive_rate * prob_non_drunk))\n",
        "  posterior = numerator/ demoninator\n",
        "  return posterior"
      ],
      "execution_count": 0,
      "outputs": []
    },
    {
      "cell_type": "code",
      "metadata": {
        "id": "44BoDivUb3ca",
        "colab_type": "code",
        "colab": {
          "base_uri": "https://localhost:8080/",
          "height": 34
        },
        "outputId": "d7f48384-6358-4587-f358-709cb18b2a25"
      },
      "source": [
        "# Probability that a person is drunk after one breathalyzer test:\n",
        "prob_drunk_given_positive(1/1000, .08, 1)"
      ],
      "execution_count": 108,
      "outputs": [
        {
          "output_type": "execute_result",
          "data": {
            "text/plain": [
              "0.012357884330202669"
            ]
          },
          "metadata": {
            "tags": []
          },
          "execution_count": 108
        }
      ]
    },
    {
      "cell_type": "code",
      "metadata": {
        "id": "xANm-G9mzMsY",
        "colab_type": "code",
        "colab": {}
      },
      "source": [
        "def bayes_theorem(p_a, p_b_given_a, p_b_given_not_a, confidence):\n",
        "    \"\"\"\n",
        "    Calculates the probability of A given B, P(A|B)\n",
        "    Also calculates the number of tests that need to be run\n",
        "    to get to the desired confidence. Maximum number of tests: 100\n",
        "\n",
        "    @param p_a: Float, P(A), prior belief\n",
        "    @param p_b_given_a: Float, P(B|A), true positive\n",
        "    @param p_b_given_not_a: Float, P(B|!A), false positive\n",
        "    @param confidence: Float, target rating\n",
        "    @return: String, P(A|B) and the number of tests needed\n",
        "    \"\"\"\n",
        "    p_a_given_b = 0\n",
        "    exp = 0\n",
        "    while p_a_given_b <= confidence:\n",
        "        exp += 1\n",
        "        assert exp < 100, \"Test Failed, confidence level untenable.\"\n",
        "        not_a = 1.0 - p_a\n",
        "        p_b = p_b_given_a * p_a + p_b_given_not_a**exp * not_a\n",
        "        p_a_given_b = (p_b_given_a * p_a) / p_b\n",
        "    return f\"P(A|B) is {p_a_given_b * 100:.3f}% after {exp} tests\""
      ],
      "execution_count": 0,
      "outputs": []
    },
    {
      "cell_type": "code",
      "metadata": {
        "id": "qAP47B1UzdnB",
        "colab_type": "code",
        "colab": {
          "base_uri": "https://localhost:8080/",
          "height": 34
        },
        "outputId": "02c6ddb7-9e22-4020-bee9-35384ae438a0"
      },
      "source": [
        "bayes_theorem(1/1000, 1, .08, .95)"
      ],
      "execution_count": 112,
      "outputs": [
        {
          "output_type": "execute_result",
          "data": {
            "text/plain": [
              "'P(A|B) is 96.069% after 4 tests'"
            ]
          },
          "metadata": {
            "tags": []
          },
          "execution_count": 112
        }
      ]
    },
    {
      "cell_type": "markdown",
      "metadata": {
        "id": "3GEEeUZjb3cd",
        "colab_type": "text"
      },
      "source": [
        "## Problem 2: Marginal is provided\n",
        "Solving for the posterior is not too complicated when the marginal probability is provided for you. \n",
        "\n",
        "Suppose we have an online website where we sell a gizmo. Consider the case where a website-visitor clicks to expand the gizmo's product description. What is the probability that they will then purchase the gizmo?\n",
        "\n",
        "Let’s assume some details:  \n",
        "* 10 percent of site visitors buy the gizmo.  That's the prior: P(buy).\n",
        "* 7 percent of site visitors that purchased the gizmo also clicked on the description. That's the conditional: P(click|buy).\n",
        "* 5 percent of site visitors click on the product description. That's the marginal: P(click).\n",
        "* What percent of site visitors will purchase the gizmo after clicking on the description? That's the posterior: P(buy|click)."
      ]
    },
    {
      "cell_type": "markdown",
      "metadata": {
        "id": "vzPeRRMAb3ce",
        "colab_type": "text"
      },
      "source": [
        "Let’s plug what we know into the theorem:\n",
        "* P(A|B) = P(B|A) * P(A) / P(B)   \n",
        "* P(buy|click) = P(click|buy) * P(buy) / P(click)"
      ]
    },
    {
      "cell_type": "code",
      "metadata": {
        "id": "JesikmmCb3cg",
        "colab_type": "code",
        "colab": {}
      },
      "source": [
        "# input the prior, marginal, and conditional.\n",
        "p_a = .1\n",
        "p_b = .05\n",
        "p_b_given_a = .07"
      ],
      "execution_count": 0,
      "outputs": []
    },
    {
      "cell_type": "code",
      "metadata": {
        "id": "86kodOoPb3ck",
        "colab_type": "code",
        "colab": {}
      },
      "source": [
        "# write the formula\n",
        "def bayes_w_marginal(prior, marginal, conditional):\n",
        "  posterior = (conditional*prior)/marginal\n",
        "  return posterior"
      ],
      "execution_count": 0,
      "outputs": []
    },
    {
      "cell_type": "code",
      "metadata": {
        "id": "CEDT6H6db3cn",
        "colab_type": "code",
        "colab": {
          "base_uri": "https://localhost:8080/",
          "height": 34
        },
        "outputId": "6bef33c3-47fd-4609-975d-53a44bc67bde"
      },
      "source": [
        "# plug it in\n",
        "result = bayes_w_marginal(p_a, p_b, p_b_given_a)\n",
        "result"
      ],
      "execution_count": 122,
      "outputs": [
        {
          "output_type": "execute_result",
          "data": {
            "text/plain": [
              "0.14"
            ]
          },
          "metadata": {
            "tags": []
          },
          "execution_count": 122
        }
      ]
    },
    {
      "cell_type": "markdown",
      "metadata": {
        "id": "NLxLBvHMb3cq",
        "colab_type": "text"
      },
      "source": [
        "## Problem 3: No marginal provided!\n",
        "Solving for the posterior is a little harder when the marginal is not provided; most real-world problems fall into this pattern.\n",
        "\n",
        "Consider the case where we receive an email and the spam detector flags it (i.e., puts it in the spam folder). What is the probability it was actally spam?\n",
        "\n",
        "Let’s assume some details:  \n",
        "* 2 percent of the email we receive is spam -- that's the prior: P(Spam). \n",
        "* the spam detector is really good and when an email is spam, it flags it 99 percent of the time -- that's the conditional: P(Flagged|Spam).   \n",
        "* When an email is not spam, it will flag it with a very low rate of 0.1 percent -- that's the fall-out rate: P(Flagged|not Spam).  \n",
        "* What is the probability that a flagged email is actually spam? -- that's the posterior: P(Spam|Flagged) "
      ]
    },
    {
      "cell_type": "markdown",
      "metadata": {
        "id": "nmbU1S8mb3cq",
        "colab_type": "text"
      },
      "source": [
        "Let’s plug what we know into the theorem:\n",
        "* P(A|B) = P(B|A) * P(A) / P(B)   \n",
        "* P(Spam|Flagged) = P(Flagged|Spam) * P(Spam) / P(Flagged)"
      ]
    },
    {
      "cell_type": "markdown",
      "metadata": {
        "id": "u1CDgWxib3cr",
        "colab_type": "text"
      },
      "source": [
        "We don’t know P(B), that is P(Flagged), but we can calculate it as follows:\n",
        "* P(B) = P(B|A) * P(A) + P(B|not A) * P(not A) \n",
        "* P(Flagged) = P(Flagged|Spam) * P(Spam) + P(Flagged|not Spam) * P(not Spam)"
      ]
    },
    {
      "cell_type": "code",
      "metadata": {
        "id": "wZECzt_fb3cu",
        "colab_type": "code",
        "colab": {}
      },
      "source": [
        "# input the prior, conditional, and fall-out rate.\n",
        "p_a = .02\n",
        "p_b_given_a=.99\n",
        "p_b_given_not_a = .001"
      ],
      "execution_count": 0,
      "outputs": []
    },
    {
      "cell_type": "code",
      "metadata": {
        "id": "KfCaRrdHb3cw",
        "colab_type": "code",
        "colab": {}
      },
      "source": [
        "# write the formula\n",
        "def bayes_no_marginal(prior, conditional, cond_complement):\n",
        "  not_a = 1 - prior\n",
        "  marginal = conditional*prior+cond_complement*not_a\n",
        "  posterior = (conditional*prior)/marginal\n",
        "  return posterior"
      ],
      "execution_count": 0,
      "outputs": []
    },
    {
      "cell_type": "code",
      "metadata": {
        "id": "Z7jZk9sMb3cz",
        "colab_type": "code",
        "colab": {
          "base_uri": "https://localhost:8080/",
          "height": 34
        },
        "outputId": "21895849-6583-41ce-fcf4-979b1fb6ff35"
      },
      "source": [
        "# plug it in\n",
        "bayes_no_marginal(p_a, p_b_given_a, p_b_given_not_a)"
      ],
      "execution_count": 136,
      "outputs": [
        {
          "output_type": "execute_result",
          "data": {
            "text/plain": [
              "0.9528392685274303"
            ]
          },
          "metadata": {
            "tags": []
          },
          "execution_count": 136
        }
      ]
    },
    {
      "cell_type": "markdown",
      "metadata": {
        "id": "9DJYxyQrb3c0",
        "colab_type": "text"
      },
      "source": [
        "## Problem 4. No marginal (again)\n"
      ]
    },
    {
      "cell_type": "markdown",
      "metadata": {
        "id": "3HetIzMUb3c1",
        "colab_type": "text"
      },
      "source": [
        "Let’s assume some details:  \n",
        "* the condition occurs in 2% of the population -- that's the prior: P(sick). \n",
        "* when a patient is actually sick, the classifier flags them as sick 72 percent of the time -- that's the conditional: P(Flagged|Sick).   \n",
        "* when the classifier says they are not sick, this is true 97 percent of the time. That's P(not Flagged | not Sick)\n",
        "* What is the probability that a flagged patient is actually sick? -- that's the posterior: P(Sick|Flagged).\n",
        "\n",
        "We don't know the marginal P(B), and we don't know the fall-out rate -- P(Flagged|not Sick) -- but we can calculate them using the formulas:\n",
        "\n",
        "* P(B) = P(B|A) * P(A) + P(B|not A) * P(not A)\n",
        "* P(B|not A) = 1 – P(not B|not A)\n",
        "\n",
        "Which translates to: \n",
        "* P(Flagged) = P(Flagged|Sick) * P(Sick) + P(Flagged|not Sick) * P(not Sick)\n",
        "* P(Flagged|not Sick) = 1 - P(not Flagged|not Sick)"
      ]
    },
    {
      "cell_type": "code",
      "metadata": {
        "id": "aqB7XcJVb3c2",
        "colab_type": "code",
        "colab": {}
      },
      "source": [
        "# input the prior, conditional, and P(not B|not A).\n",
        "p_a = .02\n",
        "p_b_given_a =.72\n",
        "p_not_b_given_not_a=.97"
      ],
      "execution_count": 0,
      "outputs": []
    },
    {
      "cell_type": "code",
      "metadata": {
        "id": "Y4jBjVIKb3c4",
        "colab_type": "code",
        "colab": {}
      },
      "source": [
        "# write the formula:\n",
        "def bayes_no_marginal_no_fallout(prior, conditional, p_not_b_given_not_a):\n",
        "  not_a = 1-prior\n",
        "  p_b_given_not_a  = 1 - p_not_b_given_not_a\n",
        "  marginal = conditional * prior + p_b_given_not_a * not_a\n",
        "  posterior = (conditional*prior)/marginal\n",
        "  return posterior"
      ],
      "execution_count": 0,
      "outputs": []
    },
    {
      "cell_type": "code",
      "metadata": {
        "id": "jXL47Bnqb3c6",
        "colab_type": "code",
        "colab": {
          "base_uri": "https://localhost:8080/",
          "height": 34
        },
        "outputId": "e36b4dcb-a86a-4633-d369-577bfc1c9901"
      },
      "source": [
        "# plug it in:\n",
        "bayes_no_marginal_no_fallout(p_a, p_b_given_a, p_not_b_given_not_a)"
      ],
      "execution_count": 139,
      "outputs": [
        {
          "output_type": "execute_result",
          "data": {
            "text/plain": [
              "0.32876712328767105"
            ]
          },
          "metadata": {
            "tags": []
          },
          "execution_count": 139
        }
      ]
    },
    {
      "cell_type": "markdown",
      "metadata": {
        "id": "ADjPUVujb3c7",
        "colab_type": "text"
      },
      "source": [
        "Sources:  \n",
        "* http://learningwithdata.com/bayes-primer.html#bayes-primer  \n",
        "* https://machinelearningmastery.com/intuition-for-bayes-theorem-with-worked-examples/  \n",
        "* https://www.bayestheorem.net/  \n",
        "* https://lucdemortier.github.io/articles/16/PerformanceMetrics\n",
        "* https://towardsdatascience.com/machine-learning-an-error-by-any-other-name-a7760a702c4d\n",
        "* https://ncss-wpengine.netdna-ssl.com/wp-content/themes/ncss/pdf/Procedures/NCSS/Binary_Diagnostic_Tests-Single_Sample.pdf\n",
        "* https://www.dataschool.io/simple-guide-to-confusion-matrix-terminology/\n",
        "* https://online.stat.psu.edu/stat507/node/71/"
      ]
    }
  ]
}